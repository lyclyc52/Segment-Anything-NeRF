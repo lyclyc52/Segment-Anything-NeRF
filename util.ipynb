{
 "cells": [
  {
   "cell_type": "markdown",
   "metadata": {},
   "source": [
    "This code is used to split the data"
   ]
  },
  {
   "cell_type": "code",
   "execution_count": 24,
   "metadata": {},
   "outputs": [],
   "source": [
    "import json\n",
    "import numpy as np\n",
    "import os\n",
    "\n",
    "scene_list_file = '/ssddata/yliugu/Segment-Anything-NeRF/trial_model_final/scene_list.json'\n",
    "scene_root = '/ssddata/yliugu/data'\n",
    "with open(scene_list_file) as f:\n",
    "    scene_dict = json.load(f)\n",
    "scene_list = []\n",
    "for k in list(scene_dict.keys()):\n",
    "    scene_list.extend(scene_dict[k])\n",
    "for s in scene_list:\n",
    "    cur_scene_root = os.path.join(scene_root, s) \n",
    "    cur_img_root = os.path.join(cur_scene_root, 'images')\n",
    "    all_img_list = os.listdir(cur_img_root)\n",
    "    all_img_list.sort()\n",
    "    \n",
    "    skip = 3\n",
    "    if len(all_img_list) > 200:\n",
    "        skip = 2\n",
    "    val_list = all_img_list[::skip]\n",
    "    train_list = [i for i in all_img_list if i not in val_list]\n",
    "    if len(train_list) < 50:\n",
    "        val_list = all_img_list\n",
    "        train_list = all_img_list\n",
    "    data_split = {\n",
    "        'train': train_list,\n",
    "        'test': val_list\n",
    "    }\n",
    "    with open(os.path.join(cur_scene_root, 'data_split.json'), '+w') as f:\n",
    "        json.dump(data_split, f, indent=4)\n",
    "        \n",
    "    "
   ]
  }
 ],
 "metadata": {
  "kernelspec": {
   "display_name": "base",
   "language": "python",
   "name": "python3"
  },
  "language_info": {
   "codemirror_mode": {
    "name": "ipython",
    "version": 3
   },
   "file_extension": ".py",
   "mimetype": "text/x-python",
   "name": "python",
   "nbconvert_exporter": "python",
   "pygments_lexer": "ipython3",
   "version": "3.11.4"
  },
  "orig_nbformat": 4
 },
 "nbformat": 4,
 "nbformat_minor": 2
}
